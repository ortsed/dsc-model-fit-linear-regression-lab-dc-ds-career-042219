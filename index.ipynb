{
 "cells": [
  {
   "cell_type": "markdown",
   "metadata": {},
   "source": [
    "# Model Fit in Linear Regression - Lab\n",
    "\n",
    "## Introduction\n",
    "In this lab, you'll learn how to evaluate your model results, and you'll learn methods to select the appropriate features using stepwise selection.\n",
    "\n",
    "## Objectives\n",
    "You will be able to:\n",
    "* Analyze the results of regression and R-squared and adjusted-R-squared \n",
    "* Understand and apply forward and backward predictor selection\n",
    "\n",
    "## The Boston Housing Data once more\n",
    "\n",
    "We pre-processed the Boston Housing Data the same way we did before:\n",
    "\n",
    "- We dropped \"ZN\" and \"NOX\" completely\n",
    "- We categorized \"RAD\" in 3 bins and \"TAX\" in 4 bins\n",
    "- We used min-max-scaling on \"B\", \"CRIM\" and \"DIS\" (and logtransformed all of them first, except \"B\")\n",
    "- We used standardization on \"AGE\", \"INDUS\", \"LSTAT\" and \"PTRATIO\" (and logtransformed all of them first, except for \"AGE\") "
   ]
  },
  {
   "cell_type": "code",
   "execution_count": 1,
   "metadata": {},
   "outputs": [],
   "source": [
    "import pandas as pd\n",
    "import numpy as np\n",
    "from sklearn.datasets import load_boston\n",
    "boston = load_boston()\n",
    "\n",
    "boston_features = pd.DataFrame(boston.data, columns = boston.feature_names)\n",
    "boston_features = boston_features.drop([\"NOX\",\"ZN\"],axis=1)\n",
    "\n",
    "# first, create bins for based on the values observed. 3 values will result in 2 bins\n",
    "bins = [0,6,  24]\n",
    "bins_rad = pd.cut(boston_features['RAD'], bins)\n",
    "bins_rad = bins_rad.cat.as_unordered()\n",
    "\n",
    "# first, create bins for based on the values observed. 4 values will result in 3 bins\n",
    "bins = [0, 270, 360, 712]\n",
    "bins_tax = pd.cut(boston_features['TAX'], bins)\n",
    "bins_tax = bins_tax.cat.as_unordered()\n",
    "\n",
    "tax_dummy = pd.get_dummies(bins_tax, prefix=\"TAX\")\n",
    "rad_dummy = pd.get_dummies(bins_rad, prefix=\"RAD\")\n",
    "boston_features = boston_features.drop([\"RAD\",\"TAX\"], axis=1)\n",
    "boston_features = pd.concat([boston_features, rad_dummy, tax_dummy], axis=1)\n",
    "\n",
    "age = boston_features[\"AGE\"]\n",
    "b = boston_features[\"B\"]\n",
    "logcrim = np.log(boston_features[\"CRIM\"])\n",
    "logdis = np.log(boston_features[\"DIS\"])\n",
    "logindus = np.log(boston_features[\"INDUS\"])\n",
    "loglstat = np.log(boston_features[\"LSTAT\"])\n",
    "logptratio = np.log(boston_features[\"PTRATIO\"])\n",
    "\n",
    "# minmax scaling\n",
    "boston_features[\"B\"] = (b-min(b))/(max(b)-min(b))\n",
    "boston_features[\"CRIM\"] = (logcrim-min(logcrim))/(max(logcrim)-min(logcrim))\n",
    "boston_features[\"DIS\"] = (logdis-min(logdis))/(max(logdis)-min(logdis))\n",
    "\n",
    "#standardization\n",
    "boston_features[\"AGE\"] = (age-np.mean(age))/np.sqrt(np.var(age))\n",
    "boston_features[\"INDUS\"] = (logindus-np.mean(logindus))/np.sqrt(np.var(logindus))\n",
    "boston_features[\"LSTAT\"] = (loglstat-np.mean(loglstat))/np.sqrt(np.var(loglstat))\n",
    "boston_features[\"PTRATIO\"] = (logptratio-np.mean(logptratio))/(np.sqrt(np.var(logptratio)))"
   ]
  },
  {
   "cell_type": "markdown",
   "metadata": {},
   "source": [
    "## Perform stepwise selection"
   ]
  },
  {
   "cell_type": "markdown",
   "metadata": {},
   "source": [
    "The code for stepwise selection is copied below."
   ]
  },
  {
   "cell_type": "code",
   "execution_count": 2,
   "metadata": {},
   "outputs": [],
   "source": [
    "import statsmodels.api as sm\n",
    "\n",
    "def stepwise_selection(X, y, \n",
    "                       initial_list=[], \n",
    "                       threshold_in=0.01, \n",
    "                       threshold_out = 0.05, \n",
    "                       verbose=True):\n",
    "    \"\"\" Perform a forward-backward feature selection \n",
    "    based on p-value from statsmodels.api.OLS\n",
    "    Arguments:\n",
    "        X - pandas.DataFrame with candidate features\n",
    "        y - list-like with the target\n",
    "        initial_list - list of features to start with (column names of X)\n",
    "        threshold_in - include a feature if its p-value < threshold_in\n",
    "        threshold_out - exclude a feature if its p-value > threshold_out\n",
    "        verbose - whether to print the sequence of inclusions and exclusions\n",
    "    Returns: list of selected features \n",
    "    Always set threshold_in < threshold_out to avoid infinite looping.\n",
    "    See https://en.wikipedia.org/wiki/Stepwise_regression for the details\n",
    "    \"\"\"\n",
    "    included = list(initial_list)\n",
    "    while True:\n",
    "        changed=False\n",
    "        # forward step\n",
    "        excluded = list(set(X.columns)-set(included))\n",
    "        new_pval = pd.Series(index=excluded)\n",
    "        for new_column in excluded:\n",
    "            model = sm.OLS(y, sm.add_constant(pd.DataFrame(X[included+[new_column]]))).fit()\n",
    "            new_pval[new_column] = model.pvalues[new_column]\n",
    "        best_pval = new_pval.min()\n",
    "        if best_pval < threshold_in:\n",
    "            best_feature = new_pval.idxmin()\n",
    "            included.append(best_feature)\n",
    "            changed=True\n",
    "            if verbose:\n",
    "                print('Add  {:30} with p-value {:.6}'.format(best_feature, best_pval))\n",
    "\n",
    "        # backward step\n",
    "        model = sm.OLS(y, sm.add_constant(pd.DataFrame(X[included]))).fit()\n",
    "        # use all coefs except intercept\n",
    "        pvalues = model.pvalues.iloc[1:]\n",
    "        worst_pval = pvalues.max() # null if pvalues is empty\n",
    "        if worst_pval > threshold_out:\n",
    "            changed=True\n",
    "            worst_feature = pvalues.argmax()\n",
    "            included.remove(worst_feature)\n",
    "            if verbose:\n",
    "                print('Drop {:30} with p-value {:.6}'.format(worst_feature, worst_pval))\n",
    "        if not changed:\n",
    "            break\n",
    "    return included"
   ]
  },
  {
   "cell_type": "code",
   "execution_count": 3,
   "metadata": {},
   "outputs": [
    {
     "name": "stdout",
     "output_type": "stream",
     "text": [
      "Add  PTRATIO                        with p-value 0.0\n",
      "Add  CRIM                           with p-value 1.55499e-21\n",
      "Add  B                              with p-value 1.31214e-48\n",
      "Drop CRIM                           with p-value 0.260819\n"
     ]
    },
    {
     "name": "stderr",
     "output_type": "stream",
     "text": [
      "/opt/conda/envs/learn-env/lib/python3.6/site-packages/ipykernel_launcher.py:45: FutureWarning: 'argmax' is deprecated, use 'idxmax' instead. The behavior of 'argmax'\n",
      "will be corrected to return the positional maximum in the future.\n",
      "Use 'series.values.argmax' to get the position of the maximum now.\n"
     ]
    },
    {
     "name": "stdout",
     "output_type": "stream",
     "text": [
      "Add  TAX_(270, 360]                 with p-value 7.44019e-63\n",
      "Add  INDUS                          with p-value 3.07734e-60\n",
      "Add  AGE                            with p-value 2.65605e-31\n",
      "Add  RAD_(0, 6]                     with p-value 1.06034e-07\n",
      "Drop AGE                            with p-value 0.153887\n",
      "Add  LSTAT                          with p-value 1.58033e-36\n",
      "Add  RAD_(6, 24]                    with p-value 4.66892e-17\n",
      "Drop B                              with p-value 0.239477\n",
      "Add  B                              with p-value 3.26927e-06\n",
      "Drop TAX_(270, 360]                 with p-value 0.623188\n",
      "Add  TAX_(0, 270]                   with p-value 6.12672e-12\n",
      "Drop RAD_(0, 6]                     with p-value 0.637636\n",
      "Add  TAX_(270, 360]                 with p-value 0.000136892\n",
      "Drop B                              with p-value 0.879559\n",
      "Add  AGE                            with p-value 7.88406e-20\n",
      "Drop TAX_(270, 360]                 with p-value 0.189006\n",
      "Add  CRIM                           with p-value 4.17432e-11\n",
      "Add  RAD_(0, 6]                     with p-value 1.72281e-18\n",
      "Drop AGE                            with p-value 0.959166\n",
      "Add  AGE                            with p-value 1.60149e-15\n",
      "Add  B                              with p-value 3.12559e-10\n",
      "Drop TAX_(0, 270]                   with p-value 0.718448\n",
      "Add  TAX_(270, 360]                 with p-value 1.10286e-05\n",
      "Drop LSTAT                          with p-value 0.443299\n",
      "Add  LSTAT                          with p-value 3.89971e-07\n",
      "Drop CRIM                           with p-value 0.833382\n",
      "Add  CRIM                           with p-value 0.00140589\n",
      "Drop B                              with p-value 0.695332\n",
      "Add  B                              with p-value 1.05183e-11\n",
      "Drop CRIM                           with p-value 0.146904\n",
      "Add  TAX_(0, 270]                   with p-value 1.01812e-09\n",
      "Drop B                              with p-value 0.461163\n",
      "Add  B                              with p-value 0.000794467\n",
      "Drop TAX_(270, 360]                 with p-value 0.552562\n",
      "Add  TAX_(360, 712]                 with p-value 1.64164e-05\n",
      "Drop TAX_(0, 270]                   with p-value 0.212689\n",
      "Drop B                              with p-value 0.626832\n",
      "Add  DIS                            with p-value 0.000135018\n",
      "Add  B                              with p-value 0.000147964\n",
      "Drop TAX_(360, 712]                 with p-value 0.885445\n",
      "Add  TAX_(0, 270]                   with p-value 2.96615e-08\n",
      "Drop RAD_(0, 6]                     with p-value 1.0\n",
      "Add  RAD_(0, 6]                     with p-value 0.000252989\n",
      "Drop LSTAT                          with p-value 0.68079\n",
      "Add  LSTAT                          with p-value 8.9392e-07\n",
      "Drop RAD_(6, 24]                    with p-value 0.520763\n",
      "Add  CRIM                           with p-value 2.97676e-13\n",
      "Drop DIS                            with p-value 0.332551\n",
      "Drop RAD_(0, 6]                     with p-value 0.874643\n",
      "Add  TAX_(360, 712]                 with p-value 6.85352e-12\n",
      "Drop B                              with p-value 0.564228\n",
      "Add  DIS                            with p-value 3.44793e-08\n",
      "Add  B                              with p-value 5.68482e-09\n",
      "Drop INDUS                          with p-value 0.679698\n",
      "Add  RAD_(0, 6]                     with p-value 1.4048e-05\n",
      "Drop DIS                            with p-value 0.80108\n",
      "Add  RAD_(6, 24]                    with p-value 0.000229524\n",
      "Drop B                              with p-value 0.909463\n",
      "Add  INDUS                          with p-value 0.000159852\n",
      "Drop LSTAT                          with p-value 0.123719\n",
      "Add  LSTAT                          with p-value 3.13961e-15\n",
      "Drop INDUS                          with p-value 0.375231\n",
      "Add  DIS                            with p-value 0.000621915\n",
      "Add  INDUS                          with p-value 4.27543e-05\n",
      "Drop TAX_(360, 712]                 with p-value 0.711712\n",
      "Add  TAX_(270, 360]                 with p-value 2.54554e-11\n",
      "Drop LSTAT                          with p-value 0.771166\n",
      "Add  B                              with p-value 3.33399e-12\n",
      "Drop TAX_(0, 270]                   with p-value 0.090485\n",
      "Add  TAX_(360, 712]                 with p-value 4.62591e-05\n",
      "Drop CRIM                           with p-value 0.932167\n",
      "Add  CRIM                           with p-value 1.20871e-07\n",
      "Drop B                              with p-value 0.415657\n",
      "Add  LSTAT                          with p-value 2.9595e-16\n",
      "Drop RAD_(6, 24]                    with p-value 0.762778\n",
      "Add  RAD_(6, 24]                    with p-value 1.76608e-05\n",
      "Drop AGE                            with p-value 0.881137\n",
      "Add  AGE                            with p-value 4.7376e-05\n",
      "Drop TAX_(270, 360]                 with p-value 0.283778\n",
      "Drop AGE                            with p-value 0.9616\n",
      "Add  TAX_(0, 270]                   with p-value 0.00111061\n",
      "Drop TAX_(360, 712]                 with p-value 0.711001\n",
      "Add  AGE                            with p-value 9.71644e-13\n",
      "Drop TAX_(0, 270]                   with p-value 0.887616\n",
      "Add  B                              with p-value 0.00610748\n",
      "Add  TAX_(270, 360]                 with p-value 1.1098e-05\n",
      "Add  CHAS                           with p-value 0.000232051\n",
      "Drop AGE                            with p-value 0.876929\n",
      "Add  TAX_(0, 270]                   with p-value 6.40544e-06\n",
      "Drop INDUS                          with p-value 0.683309\n",
      "Add  TAX_(360, 712]                 with p-value 1.26255e-12\n",
      "Drop RAD_(0, 6]                     with p-value 0.845487\n",
      "Add  INDUS                          with p-value 1.17012e-41\n",
      "Drop DIS                            with p-value 0.680838\n",
      "Add  AGE                            with p-value 0.000156542\n",
      "Drop RAD_(6, 24]                    with p-value 0.925669\n",
      "Add  RAD_(0, 6]                     with p-value 2.26376e-07\n",
      "Drop TAX_(0, 270]                   with p-value 0.849273\n",
      "Add  RAD_(6, 24]                    with p-value 8.05587e-05\n",
      "Drop LSTAT                          with p-value 0.788235\n",
      "Add  LSTAT                          with p-value 2.95873e-10\n",
      "Drop CRIM                           with p-value 0.722219\n",
      "Add  TAX_(0, 270]                   with p-value 9.04083e-10\n"
     ]
    },
    {
     "data": {
      "text/plain": [
       "['PTRATIO',\n",
       " 'B',\n",
       " 'TAX_(270, 360]',\n",
       " 'CHAS',\n",
       " 'TAX_(360, 712]',\n",
       " 'INDUS',\n",
       " 'AGE',\n",
       " 'RAD_(0, 6]',\n",
       " 'RAD_(6, 24]',\n",
       " 'LSTAT',\n",
       " 'TAX_(0, 270]']"
      ]
     },
     "execution_count": 3,
     "metadata": {},
     "output_type": "execute_result"
    }
   ],
   "source": [
    "stepwise_selection(boston_features, boston_features[\"PTRATIO\"])"
   ]
  },
  {
   "cell_type": "code",
   "execution_count": 4,
   "metadata": {},
   "outputs": [],
   "source": [
    "features = ['PTRATIO',\n",
    " 'B',\n",
    " 'TAX_(270, 360]',\n",
    " 'CHAS',\n",
    " 'TAX_(360, 712]',\n",
    " 'INDUS',\n",
    " 'AGE',\n",
    " 'RAD_(0, 6]',\n",
    " 'RAD_(6, 24]',\n",
    " 'LSTAT',\n",
    " 'TAX_(0, 270]']"
   ]
  },
  {
   "cell_type": "markdown",
   "metadata": {},
   "source": [
    "### Build the final model again in Statsmodels"
   ]
  },
  {
   "cell_type": "code",
   "execution_count": 12,
   "metadata": {},
   "outputs": [],
   "source": [
    "features = [f for f in features if \"(\" not in f]\n",
    "formula = \"PTRATIO~%s\" % \"+\".join(features[1:])"
   ]
  },
  {
   "cell_type": "code",
   "execution_count": 13,
   "metadata": {},
   "outputs": [
    {
     "data": {
      "text/plain": [
       "'PTRATIO~B+CHAS+INDUS+AGE+LSTAT'"
      ]
     },
     "execution_count": 13,
     "metadata": {},
     "output_type": "execute_result"
    }
   ],
   "source": [
    "formula"
   ]
  },
  {
   "cell_type": "code",
   "execution_count": 14,
   "metadata": {},
   "outputs": [],
   "source": [
    "from statsmodels.formula.api import ols\n",
    "model = ols(formula=formula, data=boston_features).fit()"
   ]
  },
  {
   "cell_type": "code",
   "execution_count": 15,
   "metadata": {},
   "outputs": [
    {
     "data": {
      "text/html": [
       "<table class=\"simpletable\">\n",
       "<caption>OLS Regression Results</caption>\n",
       "<tr>\n",
       "  <th>Dep. Variable:</th>         <td>PTRATIO</td>     <th>  R-squared:         </th> <td>   0.232</td>\n",
       "</tr>\n",
       "<tr>\n",
       "  <th>Model:</th>                   <td>OLS</td>       <th>  Adj. R-squared:    </th> <td>   0.225</td>\n",
       "</tr>\n",
       "<tr>\n",
       "  <th>Method:</th>             <td>Least Squares</td>  <th>  F-statistic:       </th> <td>   30.27</td>\n",
       "</tr>\n",
       "<tr>\n",
       "  <th>Date:</th>             <td>Tue, 07 May 2019</td> <th>  Prob (F-statistic):</th> <td>6.70e-27</td>\n",
       "</tr>\n",
       "<tr>\n",
       "  <th>Time:</th>                 <td>17:56:47</td>     <th>  Log-Likelihood:    </th> <td> -651.09</td>\n",
       "</tr>\n",
       "<tr>\n",
       "  <th>No. Observations:</th>      <td>   506</td>      <th>  AIC:               </th> <td>   1314.</td>\n",
       "</tr>\n",
       "<tr>\n",
       "  <th>Df Residuals:</th>          <td>   500</td>      <th>  BIC:               </th> <td>   1340.</td>\n",
       "</tr>\n",
       "<tr>\n",
       "  <th>Df Model:</th>              <td>     5</td>      <th>                     </th>     <td> </td>   \n",
       "</tr>\n",
       "<tr>\n",
       "  <th>Covariance Type:</th>      <td>nonrobust</td>    <th>                     </th>     <td> </td>   \n",
       "</tr>\n",
       "</table>\n",
       "<table class=\"simpletable\">\n",
       "<tr>\n",
       "      <td></td>         <th>coef</th>     <th>std err</th>      <th>t</th>      <th>P>|t|</th>  <th>[0.025</th>    <th>0.975]</th>  \n",
       "</tr>\n",
       "<tr>\n",
       "  <th>Intercept</th> <td>    0.0028</td> <td>    0.170</td> <td>    0.017</td> <td> 0.987</td> <td>   -0.331</td> <td>    0.336</td>\n",
       "</tr>\n",
       "<tr>\n",
       "  <th>B</th>         <td>    0.0317</td> <td>    0.184</td> <td>    0.172</td> <td> 0.863</td> <td>   -0.330</td> <td>    0.393</td>\n",
       "</tr>\n",
       "<tr>\n",
       "  <th>CHAS</th>      <td>   -0.4529</td> <td>    0.158</td> <td>   -2.864</td> <td> 0.004</td> <td>   -0.764</td> <td>   -0.142</td>\n",
       "</tr>\n",
       "<tr>\n",
       "  <th>INDUS</th>     <td>    0.3480</td> <td>    0.055</td> <td>    6.297</td> <td> 0.000</td> <td>    0.239</td> <td>    0.457</td>\n",
       "</tr>\n",
       "<tr>\n",
       "  <th>AGE</th>       <td>   -0.1254</td> <td>    0.054</td> <td>   -2.314</td> <td> 0.021</td> <td>   -0.232</td> <td>   -0.019</td>\n",
       "</tr>\n",
       "<tr>\n",
       "  <th>LSTAT</th>     <td>    0.2589</td> <td>    0.055</td> <td>    4.710</td> <td> 0.000</td> <td>    0.151</td> <td>    0.367</td>\n",
       "</tr>\n",
       "</table>\n",
       "<table class=\"simpletable\">\n",
       "<tr>\n",
       "  <th>Omnibus:</th>       <td>78.612</td> <th>  Durbin-Watson:     </th> <td>   0.301</td>\n",
       "</tr>\n",
       "<tr>\n",
       "  <th>Prob(Omnibus):</th> <td> 0.000</td> <th>  Jarque-Bera (JB):  </th> <td> 113.033</td>\n",
       "</tr>\n",
       "<tr>\n",
       "  <th>Skew:</th>          <td>-1.072</td> <th>  Prob(JB):          </th> <td>2.85e-25</td>\n",
       "</tr>\n",
       "<tr>\n",
       "  <th>Kurtosis:</th>      <td> 3.875</td> <th>  Cond. No.          </th> <td>    9.54</td>\n",
       "</tr>\n",
       "</table><br/><br/>Warnings:<br/>[1] Standard Errors assume that the covariance matrix of the errors is correctly specified."
      ],
      "text/plain": [
       "<class 'statsmodels.iolib.summary.Summary'>\n",
       "\"\"\"\n",
       "                            OLS Regression Results                            \n",
       "==============================================================================\n",
       "Dep. Variable:                PTRATIO   R-squared:                       0.232\n",
       "Model:                            OLS   Adj. R-squared:                  0.225\n",
       "Method:                 Least Squares   F-statistic:                     30.27\n",
       "Date:                Tue, 07 May 2019   Prob (F-statistic):           6.70e-27\n",
       "Time:                        17:56:47   Log-Likelihood:                -651.09\n",
       "No. Observations:                 506   AIC:                             1314.\n",
       "Df Residuals:                     500   BIC:                             1340.\n",
       "Df Model:                           5                                         \n",
       "Covariance Type:            nonrobust                                         \n",
       "==============================================================================\n",
       "                 coef    std err          t      P>|t|      [0.025      0.975]\n",
       "------------------------------------------------------------------------------\n",
       "Intercept      0.0028      0.170      0.017      0.987      -0.331       0.336\n",
       "B              0.0317      0.184      0.172      0.863      -0.330       0.393\n",
       "CHAS          -0.4529      0.158     -2.864      0.004      -0.764      -0.142\n",
       "INDUS          0.3480      0.055      6.297      0.000       0.239       0.457\n",
       "AGE           -0.1254      0.054     -2.314      0.021      -0.232      -0.019\n",
       "LSTAT          0.2589      0.055      4.710      0.000       0.151       0.367\n",
       "==============================================================================\n",
       "Omnibus:                       78.612   Durbin-Watson:                   0.301\n",
       "Prob(Omnibus):                  0.000   Jarque-Bera (JB):              113.033\n",
       "Skew:                          -1.072   Prob(JB):                     2.85e-25\n",
       "Kurtosis:                       3.875   Cond. No.                         9.54\n",
       "==============================================================================\n",
       "\n",
       "Warnings:\n",
       "[1] Standard Errors assume that the covariance matrix of the errors is correctly specified.\n",
       "\"\"\""
      ]
     },
     "execution_count": 15,
     "metadata": {},
     "output_type": "execute_result"
    }
   ],
   "source": [
    "model.summary()"
   ]
  },
  {
   "cell_type": "markdown",
   "metadata": {},
   "source": [
    "Where our stepwise procedure mentions that \"CHAS\" was added with a p-value of 0.00151282, but our statsmodels output returns a p-value of 0.000. What is the intuition behind this?"
   ]
  },
  {
   "cell_type": "markdown",
   "metadata": {},
   "source": [
    "## Use Feature ranking with recursive feature elimination"
   ]
  },
  {
   "cell_type": "markdown",
   "metadata": {},
   "source": [
    "Use feature ranking to select the 5 most important features"
   ]
  },
  {
   "cell_type": "code",
   "execution_count": 17,
   "metadata": {},
   "outputs": [],
   "source": [
    "from sklearn.feature_selection import RFE\n",
    "from sklearn.linear_model import LinearRegression\n",
    "linreg = LinearRegression()\n"
   ]
  },
  {
   "cell_type": "code",
   "execution_count": 35,
   "metadata": {},
   "outputs": [
    {
     "data": {
      "text/plain": [
       "['PTRATIO', 'B', 'CHAS', 'INDUS', 'AGE', 'LSTAT']"
      ]
     },
     "execution_count": 35,
     "metadata": {},
     "output_type": "execute_result"
    }
   ],
   "source": [
    "features"
   ]
  },
  {
   "cell_type": "code",
   "execution_count": 36,
   "metadata": {},
   "outputs": [],
   "source": [
    "linreg = LinearRegression()\n",
    "rfe = RFE(linreg, n_features_to_select = 2).fit(boston_features[features[1:]], boston_features[\"PTRATIO\"])\n"
   ]
  },
  {
   "cell_type": "code",
   "execution_count": 37,
   "metadata": {},
   "outputs": [
    {
     "data": {
      "text/plain": [
       "array([4, 1, 1, 3, 2])"
      ]
     },
     "execution_count": 37,
     "metadata": {},
     "output_type": "execute_result"
    }
   ],
   "source": [
    "rfe.ranking_"
   ]
  },
  {
   "cell_type": "code",
   "execution_count": 38,
   "metadata": {},
   "outputs": [
    {
     "data": {
      "text/plain": [
       "array([False,  True,  True, False, False])"
      ]
     },
     "execution_count": 38,
     "metadata": {},
     "output_type": "execute_result"
    }
   ],
   "source": [
    "rfe.support_"
   ]
  },
  {
   "cell_type": "markdown",
   "metadata": {},
   "source": [
    "Fit the linear regression model again using the 5 columns selected"
   ]
  },
  {
   "cell_type": "code",
   "execution_count": 28,
   "metadata": {},
   "outputs": [
    {
     "data": {
      "text/plain": [
       "'PTRATIO'"
      ]
     },
     "execution_count": 28,
     "metadata": {},
     "output_type": "execute_result"
    }
   ],
   "source": [
    "boston_features.columns[6]"
   ]
  },
  {
   "cell_type": "code",
   "execution_count": 39,
   "metadata": {},
   "outputs": [],
   "source": [
    "from statsmodels.formula.api import ols\n",
    "formula = \"PTRATIO~%s\" % \"+\".join([features[1], features[2]])\n",
    "model = ols(formula=formula, data=boston_features).fit()"
   ]
  },
  {
   "cell_type": "code",
   "execution_count": 40,
   "metadata": {},
   "outputs": [
    {
     "data": {
      "text/plain": [
       "['PTRATIO', 'B', 'CHAS', 'INDUS', 'AGE', 'LSTAT']"
      ]
     },
     "execution_count": 40,
     "metadata": {},
     "output_type": "execute_result"
    }
   ],
   "source": [
    "features"
   ]
  },
  {
   "cell_type": "code",
   "execution_count": 41,
   "metadata": {},
   "outputs": [
    {
     "data": {
      "text/html": [
       "<table class=\"simpletable\">\n",
       "<caption>OLS Regression Results</caption>\n",
       "<tr>\n",
       "  <th>Dep. Variable:</th>         <td>PTRATIO</td>     <th>  R-squared:         </th> <td>   0.040</td>\n",
       "</tr>\n",
       "<tr>\n",
       "  <th>Model:</th>                   <td>OLS</td>       <th>  Adj. R-squared:    </th> <td>   0.036</td>\n",
       "</tr>\n",
       "<tr>\n",
       "  <th>Method:</th>             <td>Least Squares</td>  <th>  F-statistic:       </th> <td>   10.44</td>\n",
       "</tr>\n",
       "<tr>\n",
       "  <th>Date:</th>             <td>Tue, 07 May 2019</td> <th>  Prob (F-statistic):</th> <td>3.62e-05</td>\n",
       "</tr>\n",
       "<tr>\n",
       "  <th>Time:</th>                 <td>18:05:39</td>     <th>  Log-Likelihood:    </th> <td> -707.69</td>\n",
       "</tr>\n",
       "<tr>\n",
       "  <th>No. Observations:</th>      <td>   506</td>      <th>  AIC:               </th> <td>   1421.</td>\n",
       "</tr>\n",
       "<tr>\n",
       "  <th>Df Residuals:</th>          <td>   503</td>      <th>  BIC:               </th> <td>   1434.</td>\n",
       "</tr>\n",
       "<tr>\n",
       "  <th>Df Model:</th>              <td>     2</td>      <th>                     </th>     <td> </td>   \n",
       "</tr>\n",
       "<tr>\n",
       "  <th>Covariance Type:</th>      <td>nonrobust</td>    <th>                     </th>     <td> </td>   \n",
       "</tr>\n",
       "</table>\n",
       "<table class=\"simpletable\">\n",
       "<tr>\n",
       "      <td></td>         <th>coef</th>     <th>std err</th>      <th>t</th>      <th>P>|t|</th>  <th>[0.025</th>    <th>0.975]</th>  \n",
       "</tr>\n",
       "<tr>\n",
       "  <th>Intercept</th> <td>    0.6637</td> <td>    0.176</td> <td>    3.766</td> <td> 0.000</td> <td>    0.317</td> <td>    1.010</td>\n",
       "</tr>\n",
       "<tr>\n",
       "  <th>B</th>         <td>   -0.7057</td> <td>    0.190</td> <td>   -3.710</td> <td> 0.000</td> <td>   -1.079</td> <td>   -0.332</td>\n",
       "</tr>\n",
       "<tr>\n",
       "  <th>CHAS</th>      <td>   -0.4279</td> <td>    0.172</td> <td>   -2.482</td> <td> 0.013</td> <td>   -0.767</td> <td>   -0.089</td>\n",
       "</tr>\n",
       "</table>\n",
       "<table class=\"simpletable\">\n",
       "<tr>\n",
       "  <th>Omnibus:</th>       <td>68.830</td> <th>  Durbin-Watson:     </th> <td>   0.224</td>\n",
       "</tr>\n",
       "<tr>\n",
       "  <th>Prob(Omnibus):</th> <td> 0.000</td> <th>  Jarque-Bera (JB):  </th> <td>  94.114</td>\n",
       "</tr>\n",
       "<tr>\n",
       "  <th>Skew:</th>          <td>-1.035</td> <th>  Prob(JB):          </th> <td>3.66e-21</td>\n",
       "</tr>\n",
       "<tr>\n",
       "  <th>Kurtosis:</th>      <td> 3.422</td> <th>  Cond. No.          </th> <td>    7.98</td>\n",
       "</tr>\n",
       "</table><br/><br/>Warnings:<br/>[1] Standard Errors assume that the covariance matrix of the errors is correctly specified."
      ],
      "text/plain": [
       "<class 'statsmodels.iolib.summary.Summary'>\n",
       "\"\"\"\n",
       "                            OLS Regression Results                            \n",
       "==============================================================================\n",
       "Dep. Variable:                PTRATIO   R-squared:                       0.040\n",
       "Model:                            OLS   Adj. R-squared:                  0.036\n",
       "Method:                 Least Squares   F-statistic:                     10.44\n",
       "Date:                Tue, 07 May 2019   Prob (F-statistic):           3.62e-05\n",
       "Time:                        18:05:39   Log-Likelihood:                -707.69\n",
       "No. Observations:                 506   AIC:                             1421.\n",
       "Df Residuals:                     503   BIC:                             1434.\n",
       "Df Model:                           2                                         \n",
       "Covariance Type:            nonrobust                                         \n",
       "==============================================================================\n",
       "                 coef    std err          t      P>|t|      [0.025      0.975]\n",
       "------------------------------------------------------------------------------\n",
       "Intercept      0.6637      0.176      3.766      0.000       0.317       1.010\n",
       "B             -0.7057      0.190     -3.710      0.000      -1.079      -0.332\n",
       "CHAS          -0.4279      0.172     -2.482      0.013      -0.767      -0.089\n",
       "==============================================================================\n",
       "Omnibus:                       68.830   Durbin-Watson:                   0.224\n",
       "Prob(Omnibus):                  0.000   Jarque-Bera (JB):               94.114\n",
       "Skew:                          -1.035   Prob(JB):                     3.66e-21\n",
       "Kurtosis:                       3.422   Cond. No.                         7.98\n",
       "==============================================================================\n",
       "\n",
       "Warnings:\n",
       "[1] Standard Errors assume that the covariance matrix of the errors is correctly specified.\n",
       "\"\"\""
      ]
     },
     "execution_count": 41,
     "metadata": {},
     "output_type": "execute_result"
    }
   ],
   "source": [
    "model.summary()"
   ]
  },
  {
   "cell_type": "markdown",
   "metadata": {},
   "source": [
    "Now, predict $\\hat y$ using your model. you can use `.predict()` in scikit-learn"
   ]
  },
  {
   "cell_type": "code",
   "execution_count": 43,
   "metadata": {},
   "outputs": [],
   "source": [
    "y_p = model.predict()"
   ]
  },
  {
   "cell_type": "markdown",
   "metadata": {},
   "source": [
    "Now, using the formulas of R-squared and adjusted-R-squared below, and your Python/numpy knowledge, compute them and contrast them with the R-squared and adjusted-R-squared in your statsmodels output using stepwise selection. Which of the two models would you prefer?"
   ]
  },
  {
   "cell_type": "markdown",
   "metadata": {},
   "source": [
    "$SS_{residual} = \\sum (y - \\hat{y})^2 $\n",
    "\n",
    "$SS_{total} = \\sum (y - \\bar{y})^2 $\n",
    "\n",
    "$R^2 = 1- \\dfrac{SS_{residual}}{SS_{total}}$\n",
    "\n",
    "$R^2_{adj}= 1-(1-R^2)\\dfrac{n-1}{n-p-1}$"
   ]
  },
  {
   "cell_type": "code",
   "execution_count": 44,
   "metadata": {},
   "outputs": [],
   "source": [
    "y = boston_features[\"PTRATIO\"]"
   ]
  },
  {
   "cell_type": "code",
   "execution_count": 50,
   "metadata": {},
   "outputs": [
    {
     "name": "stdout",
     "output_type": "stream",
     "text": [
      "485.83647115389005\n"
     ]
    }
   ],
   "source": [
    "s_res = sum((y-y_p)**2)\n",
    "print(s_res)"
   ]
  },
  {
   "cell_type": "code",
   "execution_count": 51,
   "metadata": {},
   "outputs": [
    {
     "name": "stdout",
     "output_type": "stream",
     "text": [
      "-1.2505552149377763e-12\n"
     ]
    }
   ],
   "source": [
    "s_tot = sum((y-np.mean(y)**2))\n",
    "print(s_tot)"
   ]
  },
  {
   "cell_type": "code",
   "execution_count": 52,
   "metadata": {},
   "outputs": [
    {
     "name": "stdout",
     "output_type": "stream",
     "text": [
      "388496617622809.25\n"
     ]
    }
   ],
   "source": [
    "r2 = 1 - (s_res/s_tot)\n",
    "print(r2)"
   ]
  },
  {
   "cell_type": "code",
   "execution_count": null,
   "metadata": {},
   "outputs": [],
   "source": [
    "1 - ( (1 - r2)"
   ]
  },
  {
   "cell_type": "markdown",
   "metadata": {},
   "source": [
    "## Level up - Optional"
   ]
  },
  {
   "cell_type": "markdown",
   "metadata": {},
   "source": [
    "- Perform variable selection using forward selection, using this resource: https://planspace.org/20150423-forward_selection_with_statsmodels/. Note that this time features are added based on the adjusted-R-squared!\n",
    "- Tweak the code in the `stepwise_selection()`-function written above to just perform forward selection based on the p-value."
   ]
  },
  {
   "cell_type": "markdown",
   "metadata": {},
   "source": [
    "## Summary\n",
    "Great! You now performed your own feature selection methods!"
   ]
  }
 ],
 "metadata": {
  "kernelspec": {
   "display_name": "Python 3",
   "language": "python",
   "name": "python3"
  },
  "language_info": {
   "codemirror_mode": {
    "name": "ipython",
    "version": 3
   },
   "file_extension": ".py",
   "mimetype": "text/x-python",
   "name": "python",
   "nbconvert_exporter": "python",
   "pygments_lexer": "ipython3",
   "version": "3.6.6"
  }
 },
 "nbformat": 4,
 "nbformat_minor": 2
}
