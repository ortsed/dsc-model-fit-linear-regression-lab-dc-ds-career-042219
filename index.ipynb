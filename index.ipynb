{
 "cells": [
  {
   "cell_type": "markdown",
   "metadata": {},
   "source": [
    "# Model Fit in Linear Regression - Lab\n",
    "\n",
    "## Introduction\n",
    "In this lab, you'll learn how to evaluate your model results, and you'll learn methods to select the appropriate features using stepwise selection.\n",
    "\n",
    "## Objectives\n",
    "You will be able to:\n",
    "* Analyze the results of regression and R-squared and adjusted-R-squared \n",
    "* Understand and apply forward and backward predictor selection\n",
    "\n",
    "## The Boston Housing Data once more\n",
    "\n",
    "We pre-processed the Boston Housing Data the same way we did before:\n",
    "\n",
    "- We dropped \"ZN\" and \"NOX\" completely\n",
    "- We categorized \"RAD\" in 3 bins and \"TAX\" in 4 bins\n",
    "- We used min-max-scaling on \"B\", \"CRIM\" and \"DIS\" (and logtransformed all of them first, except \"B\")\n",
    "- We used standardization on \"AGE\", \"INDUS\", \"LSTAT\" and \"PTRATIO\" (and logtransformed all of them first, except for \"AGE\") "
   ]
  },
  {
   "cell_type": "code",
   "execution_count": 1,
   "metadata": {},
   "outputs": [],
   "source": [
    "import pandas as pd\n",
    "import numpy as np\n",
    "from sklearn.datasets import load_boston\n",
    "boston = load_boston()\n",
    "\n",
    "boston_features = pd.DataFrame(boston.data, columns = boston.feature_names)\n",
    "boston_features = boston_features.drop([\"NOX\",\"ZN\"],axis=1)\n",
    "\n",
    "# first, create bins for based on the values observed. 3 values will result in 2 bins\n",
    "bins = [0,6,  24]\n",
    "bins_rad = pd.cut(boston_features['RAD'], bins)\n",
    "bins_rad = bins_rad.cat.as_unordered()\n",
    "\n",
    "# first, create bins for based on the values observed. 4 values will result in 3 bins\n",
    "bins = [0, 270, 360, 712]\n",
    "bins_tax = pd.cut(boston_features['TAX'], bins)\n",
    "bins_tax = bins_tax.cat.as_unordered()\n",
    "\n",
    "tax_dummy = pd.get_dummies(bins_tax, prefix=\"TAX\")\n",
    "rad_dummy = pd.get_dummies(bins_rad, prefix=\"RAD\")\n",
    "boston_features = boston_features.drop([\"RAD\",\"TAX\"], axis=1)\n",
    "boston_features = pd.concat([boston_features, rad_dummy, tax_dummy], axis=1)\n",
    "\n",
    "age = boston_features[\"AGE\"]\n",
    "b = boston_features[\"B\"]\n",
    "logcrim = np.log(boston_features[\"CRIM\"])\n",
    "logdis = np.log(boston_features[\"DIS\"])\n",
    "logindus = np.log(boston_features[\"INDUS\"])\n",
    "loglstat = np.log(boston_features[\"LSTAT\"])\n",
    "logptratio = np.log(boston_features[\"PTRATIO\"])\n",
    "\n",
    "# minmax scaling\n",
    "boston_features[\"B\"] = (b-min(b))/(max(b)-min(b))\n",
    "boston_features[\"CRIM\"] = (logcrim-min(logcrim))/(max(logcrim)-min(logcrim))\n",
    "boston_features[\"DIS\"] = (logdis-min(logdis))/(max(logdis)-min(logdis))\n",
    "\n",
    "#standardization\n",
    "boston_features[\"AGE\"] = (age-np.mean(age))/np.sqrt(np.var(age))\n",
    "boston_features[\"INDUS\"] = (logindus-np.mean(logindus))/np.sqrt(np.var(logindus))\n",
    "boston_features[\"LSTAT\"] = (loglstat-np.mean(loglstat))/np.sqrt(np.var(loglstat))\n",
    "boston_features[\"PTRATIO\"] = (logptratio-np.mean(logptratio))/(np.sqrt(np.var(logptratio)))"
   ]
  },
  {
   "cell_type": "markdown",
   "metadata": {},
   "source": [
    "## Perform stepwise selection"
   ]
  },
  {
   "cell_type": "markdown",
   "metadata": {},
   "source": [
    "The code for stepwise selection is copied below."
   ]
  },
  {
   "cell_type": "code",
   "execution_count": 2,
   "metadata": {},
   "outputs": [],
   "source": [
    "import statsmodels.api as sm\n",
    "\n",
    "def stepwise_selection(X, y, \n",
    "                       initial_list=[], \n",
    "                       threshold_in=0.01, \n",
    "                       threshold_out = 0.05, \n",
    "                       verbose=True):\n",
    "    \"\"\" Perform a forward-backward feature selection \n",
    "    based on p-value from statsmodels.api.OLS\n",
    "    Arguments:\n",
    "        X - pandas.DataFrame with candidate features\n",
    "        y - list-like with the target\n",
    "        initial_list - list of features to start with (column names of X)\n",
    "        threshold_in - include a feature if its p-value < threshold_in\n",
    "        threshold_out - exclude a feature if its p-value > threshold_out\n",
    "        verbose - whether to print the sequence of inclusions and exclusions\n",
    "    Returns: list of selected features \n",
    "    Always set threshold_in < threshold_out to avoid infinite looping.\n",
    "    See https://en.wikipedia.org/wiki/Stepwise_regression for the details\n",
    "    \"\"\"\n",
    "    included = list(initial_list)\n",
    "    while True:\n",
    "        changed=False\n",
    "        # forward step\n",
    "        excluded = list(set(X.columns)-set(included))\n",
    "        new_pval = pd.Series(index=excluded)\n",
    "        for new_column in excluded:\n",
    "            model = sm.OLS(y, sm.add_constant(pd.DataFrame(X[included+[new_column]]))).fit()\n",
    "            new_pval[new_column] = model.pvalues[new_column]\n",
    "        best_pval = new_pval.min()\n",
    "        if best_pval < threshold_in:\n",
    "            best_feature = new_pval.idxmin()\n",
    "            included.append(best_feature)\n",
    "            changed=True\n",
    "            if verbose:\n",
    "                print('Add  {:30} with p-value {:.6}'.format(best_feature, best_pval))\n",
    "\n",
    "        # backward step\n",
    "        model = sm.OLS(y, sm.add_constant(pd.DataFrame(X[included]))).fit()\n",
    "        # use all coefs except intercept\n",
    "        pvalues = model.pvalues.iloc[1:]\n",
    "        worst_pval = pvalues.max() # null if pvalues is empty\n",
    "        if worst_pval > threshold_out:\n",
    "            changed=True\n",
    "            worst_feature = pvalues.argmax()\n",
    "            included.remove(worst_feature)\n",
    "            if verbose:\n",
    "                print('Drop {:30} with p-value {:.6}'.format(worst_feature, worst_pval))\n",
    "        if not changed:\n",
    "            break\n",
    "    return included"
   ]
  },
  {
   "cell_type": "code",
   "execution_count": 3,
   "metadata": {},
   "outputs": [
    {
     "name": "stdout",
     "output_type": "stream",
     "text": [
      "Add  PTRATIO                        with p-value 0.0\n",
      "Add  CRIM                           with p-value 1.55499e-21\n",
      "Add  B                              with p-value 1.31214e-48\n",
      "Drop CRIM                           with p-value 0.260819\n"
     ]
    },
    {
     "name": "stderr",
     "output_type": "stream",
     "text": [
      "/opt/conda/envs/learn-env/lib/python3.6/site-packages/ipykernel_launcher.py:45: FutureWarning: 'argmax' is deprecated, use 'idxmax' instead. The behavior of 'argmax'\n",
      "will be corrected to return the positional maximum in the future.\n",
      "Use 'series.values.argmax' to get the position of the maximum now.\n"
     ]
    },
    {
     "name": "stdout",
     "output_type": "stream",
     "text": [
      "Add  TAX_(270, 360]                 with p-value 7.44019e-63\n",
      "Add  INDUS                          with p-value 3.07734e-60\n",
      "Add  AGE                            with p-value 2.65605e-31\n",
      "Add  RAD_(0, 6]                     with p-value 1.06034e-07\n",
      "Drop AGE                            with p-value 0.153887\n",
      "Add  LSTAT                          with p-value 1.58033e-36\n",
      "Add  RAD_(6, 24]                    with p-value 4.66892e-17\n",
      "Drop B                              with p-value 0.239477\n",
      "Add  B                              with p-value 3.26927e-06\n",
      "Drop TAX_(270, 360]                 with p-value 0.623188\n",
      "Add  TAX_(0, 270]                   with p-value 6.12672e-12\n",
      "Drop RAD_(0, 6]                     with p-value 0.637636\n",
      "Add  TAX_(270, 360]                 with p-value 0.000136892\n",
      "Drop B                              with p-value 0.879559\n",
      "Add  AGE                            with p-value 7.88406e-20\n",
      "Drop TAX_(270, 360]                 with p-value 0.189006\n",
      "Add  CRIM                           with p-value 4.17432e-11\n",
      "Add  RAD_(0, 6]                     with p-value 1.72281e-18\n",
      "Drop AGE                            with p-value 0.959166\n",
      "Add  AGE                            with p-value 1.60149e-15\n",
      "Add  B                              with p-value 3.12559e-10\n",
      "Drop TAX_(0, 270]                   with p-value 0.718448\n",
      "Add  TAX_(270, 360]                 with p-value 1.10286e-05\n",
      "Drop LSTAT                          with p-value 0.443299\n",
      "Add  LSTAT                          with p-value 3.89971e-07\n",
      "Drop CRIM                           with p-value 0.833382\n",
      "Add  CRIM                           with p-value 0.00140589\n",
      "Drop B                              with p-value 0.695332\n",
      "Add  B                              with p-value 1.05183e-11\n",
      "Drop CRIM                           with p-value 0.146904\n",
      "Add  TAX_(0, 270]                   with p-value 1.01812e-09\n",
      "Drop B                              with p-value 0.461163\n",
      "Add  B                              with p-value 0.000794467\n",
      "Drop TAX_(270, 360]                 with p-value 0.552562\n",
      "Add  TAX_(360, 712]                 with p-value 1.64164e-05\n",
      "Drop TAX_(0, 270]                   with p-value 0.212689\n",
      "Drop B                              with p-value 0.626832\n",
      "Add  DIS                            with p-value 0.000135018\n",
      "Add  B                              with p-value 0.000147964\n",
      "Drop TAX_(360, 712]                 with p-value 0.885445\n",
      "Add  TAX_(0, 270]                   with p-value 2.96615e-08\n",
      "Drop RAD_(0, 6]                     with p-value 1.0\n",
      "Add  RAD_(0, 6]                     with p-value 0.000252989\n",
      "Drop LSTAT                          with p-value 0.68079\n",
      "Add  LSTAT                          with p-value 8.9392e-07\n",
      "Drop RAD_(6, 24]                    with p-value 0.520763\n",
      "Add  CRIM                           with p-value 2.97676e-13\n",
      "Drop DIS                            with p-value 0.332551\n",
      "Drop RAD_(0, 6]                     with p-value 0.874643\n",
      "Add  TAX_(360, 712]                 with p-value 6.85352e-12\n",
      "Drop B                              with p-value 0.564228\n",
      "Add  DIS                            with p-value 3.44793e-08\n",
      "Add  B                              with p-value 5.68482e-09\n",
      "Drop INDUS                          with p-value 0.679698\n",
      "Add  RAD_(0, 6]                     with p-value 1.4048e-05\n",
      "Drop DIS                            with p-value 0.80108\n",
      "Add  RAD_(6, 24]                    with p-value 0.000229524\n",
      "Drop B                              with p-value 0.909463\n",
      "Add  INDUS                          with p-value 0.000159852\n",
      "Drop LSTAT                          with p-value 0.123719\n",
      "Add  LSTAT                          with p-value 3.13961e-15\n",
      "Drop INDUS                          with p-value 0.375231\n",
      "Add  DIS                            with p-value 0.000621915\n",
      "Add  INDUS                          with p-value 4.27543e-05\n",
      "Drop TAX_(360, 712]                 with p-value 0.711712\n",
      "Add  TAX_(270, 360]                 with p-value 2.54554e-11\n",
      "Drop LSTAT                          with p-value 0.771166\n",
      "Add  B                              with p-value 3.33399e-12\n",
      "Drop TAX_(0, 270]                   with p-value 0.090485\n",
      "Add  TAX_(360, 712]                 with p-value 4.62591e-05\n",
      "Drop CRIM                           with p-value 0.932167\n",
      "Add  CRIM                           with p-value 1.20871e-07\n",
      "Drop B                              with p-value 0.415657\n",
      "Add  LSTAT                          with p-value 2.9595e-16\n",
      "Drop RAD_(6, 24]                    with p-value 0.762778\n",
      "Add  RAD_(6, 24]                    with p-value 1.76608e-05\n",
      "Drop AGE                            with p-value 0.881137\n",
      "Add  AGE                            with p-value 4.7376e-05\n",
      "Drop TAX_(270, 360]                 with p-value 0.283778\n",
      "Drop AGE                            with p-value 0.9616\n",
      "Add  TAX_(0, 270]                   with p-value 0.00111061\n",
      "Drop TAX_(360, 712]                 with p-value 0.711001\n",
      "Add  AGE                            with p-value 9.71644e-13\n",
      "Drop TAX_(0, 270]                   with p-value 0.887616\n",
      "Add  B                              with p-value 0.00610748\n",
      "Add  TAX_(270, 360]                 with p-value 1.1098e-05\n",
      "Add  CHAS                           with p-value 0.000232051\n",
      "Drop AGE                            with p-value 0.876929\n",
      "Add  TAX_(0, 270]                   with p-value 6.40544e-06\n",
      "Drop INDUS                          with p-value 0.683309\n",
      "Add  TAX_(360, 712]                 with p-value 1.26255e-12\n",
      "Drop RAD_(0, 6]                     with p-value 0.845487\n",
      "Add  INDUS                          with p-value 1.17012e-41\n",
      "Drop DIS                            with p-value 0.680838\n",
      "Add  AGE                            with p-value 0.000156542\n",
      "Drop RAD_(6, 24]                    with p-value 0.925669\n",
      "Add  RAD_(0, 6]                     with p-value 2.26376e-07\n",
      "Drop TAX_(0, 270]                   with p-value 0.849273\n",
      "Add  RAD_(6, 24]                    with p-value 8.05587e-05\n",
      "Drop LSTAT                          with p-value 0.788235\n",
      "Add  LSTAT                          with p-value 2.95873e-10\n",
      "Drop CRIM                           with p-value 0.722219\n",
      "Add  TAX_(0, 270]                   with p-value 9.04083e-10\n"
     ]
    },
    {
     "data": {
      "text/plain": [
       "['PTRATIO',\n",
       " 'B',\n",
       " 'TAX_(270, 360]',\n",
       " 'CHAS',\n",
       " 'TAX_(360, 712]',\n",
       " 'INDUS',\n",
       " 'AGE',\n",
       " 'RAD_(0, 6]',\n",
       " 'RAD_(6, 24]',\n",
       " 'LSTAT',\n",
       " 'TAX_(0, 270]']"
      ]
     },
     "execution_count": 3,
     "metadata": {},
     "output_type": "execute_result"
    }
   ],
   "source": [
    "stepwise_selection(boston_features, boston_features[\"PTRATIO\"])"
   ]
  },
  {
   "cell_type": "code",
   "execution_count": 4,
   "metadata": {},
   "outputs": [],
   "source": [
    "features = ['PTRATIO',\n",
    " 'B',\n",
    " 'TAX_(270, 360]',\n",
    " 'CHAS',\n",
    " 'TAX_(360, 712]',\n",
    " 'INDUS',\n",
    " 'AGE',\n",
    " 'RAD_(0, 6]',\n",
    " 'RAD_(6, 24]',\n",
    " 'LSTAT',\n",
    " 'TAX_(0, 270]']"
   ]
  },
  {
   "cell_type": "markdown",
   "metadata": {},
   "source": [
    "### Build the final model again in Statsmodels"
   ]
  },
  {
   "cell_type": "code",
   "execution_count": 12,
   "metadata": {},
   "outputs": [],
   "source": [
    "features = [f for f in features if \"(\" not in f]\n",
    "formula = \"PTRATIO~%s\" % \"+\".join(features[1:])"
   ]
  },
  {
   "cell_type": "code",
   "execution_count": 13,
   "metadata": {},
   "outputs": [
    {
     "data": {
      "text/plain": [
       "'PTRATIO~B+CHAS+INDUS+AGE+LSTAT'"
      ]
     },
     "execution_count": 13,
     "metadata": {},
     "output_type": "execute_result"
    }
   ],
   "source": [
    "formula"
   ]
  },
  {
   "cell_type": "code",
   "execution_count": 14,
   "metadata": {},
   "outputs": [],
   "source": [
    "from statsmodels.formula.api import ols\n",
    "model = ols(formula=formula, data=boston_features).fit()"
   ]
  },
  {
   "cell_type": "code",
   "execution_count": 15,
   "metadata": {},
   "outputs": [
    {
     "data": {
      "text/html": [
       "<table class=\"simpletable\">\n",
       "<caption>OLS Regression Results</caption>\n",
       "<tr>\n",
       "  <th>Dep. Variable:</th>         <td>PTRATIO</td>     <th>  R-squared:         </th> <td>   0.232</td>\n",
       "</tr>\n",
       "<tr>\n",
       "  <th>Model:</th>                   <td>OLS</td>       <th>  Adj. R-squared:    </th> <td>   0.225</td>\n",
       "</tr>\n",
       "<tr>\n",
       "  <th>Method:</th>             <td>Least Squares</td>  <th>  F-statistic:       </th> <td>   30.27</td>\n",
       "</tr>\n",
       "<tr>\n",
       "  <th>Date:</th>             <td>Tue, 07 May 2019</td> <th>  Prob (F-statistic):</th> <td>6.70e-27</td>\n",
       "</tr>\n",
       "<tr>\n",
       "  <th>Time:</th>                 <td>17:56:47</td>     <th>  Log-Likelihood:    </th> <td> -651.09</td>\n",
       "</tr>\n",
       "<tr>\n",
       "  <th>No. Observations:</th>      <td>   506</td>      <th>  AIC:               </th> <td>   1314.</td>\n",
       "</tr>\n",
       "<tr>\n",
       "  <th>Df Residuals:</th>          <td>   500</td>      <th>  BIC:               </th> <td>   1340.</td>\n",
       "</tr>\n",
       "<tr>\n",
       "  <th>Df Model:</th>              <td>     5</td>      <th>                     </th>     <td> </td>   \n",
       "</tr>\n",
       "<tr>\n",
       "  <th>Covariance Type:</th>      <td>nonrobust</td>    <th>                     </th>     <td> </td>   \n",
       "</tr>\n",
       "</table>\n",
       "<table class=\"simpletable\">\n",
       "<tr>\n",
       "      <td></td>         <th>coef</th>     <th>std err</th>      <th>t</th>      <th>P>|t|</th>  <th>[0.025</th>    <th>0.975]</th>  \n",
       "</tr>\n",
       "<tr>\n",
       "  <th>Intercept</th> <td>    0.0028</td> <td>    0.170</td> <td>    0.017</td> <td> 0.987</td> <td>   -0.331</td> <td>    0.336</td>\n",
       "</tr>\n",
       "<tr>\n",
       "  <th>B</th>         <td>    0.0317</td> <td>    0.184</td> <td>    0.172</td> <td> 0.863</td> <td>   -0.330</td> <td>    0.393</td>\n",
       "</tr>\n",
       "<tr>\n",
       "  <th>CHAS</th>      <td>   -0.4529</td> <td>    0.158</td> <td>   -2.864</td> <td> 0.004</td> <td>   -0.764</td> <td>   -0.142</td>\n",
       "</tr>\n",
       "<tr>\n",
       "  <th>INDUS</th>     <td>    0.3480</td> <td>    0.055</td> <td>    6.297</td> <td> 0.000</td> <td>    0.239</td> <td>    0.457</td>\n",
       "</tr>\n",
       "<tr>\n",
       "  <th>AGE</th>       <td>   -0.1254</td> <td>    0.054</td> <td>   -2.314</td> <td> 0.021</td> <td>   -0.232</td> <td>   -0.019</td>\n",
       "</tr>\n",
       "<tr>\n",
       "  <th>LSTAT</th>     <td>    0.2589</td> <td>    0.055</td> <td>    4.710</td> <td> 0.000</td> <td>    0.151</td> <td>    0.367</td>\n",
       "</tr>\n",
       "</table>\n",
       "<table class=\"simpletable\">\n",
       "<tr>\n",
       "  <th>Omnibus:</th>       <td>78.612</td> <th>  Durbin-Watson:     </th> <td>   0.301</td>\n",
       "</tr>\n",
       "<tr>\n",
       "  <th>Prob(Omnibus):</th> <td> 0.000</td> <th>  Jarque-Bera (JB):  </th> <td> 113.033</td>\n",
       "</tr>\n",
       "<tr>\n",
       "  <th>Skew:</th>          <td>-1.072</td> <th>  Prob(JB):          </th> <td>2.85e-25</td>\n",
       "</tr>\n",
       "<tr>\n",
       "  <th>Kurtosis:</th>      <td> 3.875</td> <th>  Cond. No.          </th> <td>    9.54</td>\n",
       "</tr>\n",
       "</table><br/><br/>Warnings:<br/>[1] Standard Errors assume that the covariance matrix of the errors is correctly specified."
      ],
      "text/plain": [
       "<class 'statsmodels.iolib.summary.Summary'>\n",
       "\"\"\"\n",
       "                            OLS Regression Results                            \n",
       "==============================================================================\n",
       "Dep. Variable:                PTRATIO   R-squared:                       0.232\n",
       "Model:                            OLS   Adj. R-squared:                  0.225\n",
       "Method:                 Least Squares   F-statistic:                     30.27\n",
       "Date:                Tue, 07 May 2019   Prob (F-statistic):           6.70e-27\n",
       "Time:                        17:56:47   Log-Likelihood:                -651.09\n",
       "No. Observations:                 506   AIC:                             1314.\n",
       "Df Residuals:                     500   BIC:                             1340.\n",
       "Df Model:                           5                                         \n",
       "Covariance Type:            nonrobust                                         \n",
       "==============================================================================\n",
       "                 coef    std err          t      P>|t|      [0.025      0.975]\n",
       "------------------------------------------------------------------------------\n",
       "Intercept      0.0028      0.170      0.017      0.987      -0.331       0.336\n",
       "B              0.0317      0.184      0.172      0.863      -0.330       0.393\n",
       "CHAS          -0.4529      0.158     -2.864      0.004      -0.764      -0.142\n",
       "INDUS          0.3480      0.055      6.297      0.000       0.239       0.457\n",
       "AGE           -0.1254      0.054     -2.314      0.021      -0.232      -0.019\n",
       "LSTAT          0.2589      0.055      4.710      0.000       0.151       0.367\n",
       "==============================================================================\n",
       "Omnibus:                       78.612   Durbin-Watson:                   0.301\n",
       "Prob(Omnibus):                  0.000   Jarque-Bera (JB):              113.033\n",
       "Skew:                          -1.072   Prob(JB):                     2.85e-25\n",
       "Kurtosis:                       3.875   Cond. No.                         9.54\n",
       "==============================================================================\n",
       "\n",
       "Warnings:\n",
       "[1] Standard Errors assume that the covariance matrix of the errors is correctly specified.\n",
       "\"\"\""
      ]
     },
     "execution_count": 15,
     "metadata": {},
     "output_type": "execute_result"
    }
   ],
   "source": [
    "model.summary()"
   ]
  },
  {
   "cell_type": "markdown",
   "metadata": {},
   "source": [
    "Where our stepwise procedure mentions that \"CHAS\" was added with a p-value of 0.00151282, but our statsmodels output returns a p-value of 0.000. What is the intuition behind this?"
   ]
  },
  {
   "cell_type": "markdown",
   "metadata": {},
   "source": [
    "## Use Feature ranking with recursive feature elimination"
   ]
  },
  {
   "cell_type": "markdown",
   "metadata": {},
   "source": [
    "Use feature ranking to select the 5 most important features"
   ]
  },
  {
   "cell_type": "code",
   "execution_count": 17,
   "metadata": {},
   "outputs": [],
   "source": [
    "from sklearn.feature_selection import RFE\n",
    "from sklearn.linear_model import LinearRegression\n",
    "linreg = LinearRegression()\n"
   ]
  },
  {
   "cell_type": "code",
   "execution_count": 35,
   "metadata": {},
   "outputs": [
    {
     "data": {
      "text/plain": [
       "['PTRATIO', 'B', 'CHAS', 'INDUS', 'AGE', 'LSTAT']"
      ]
     },
     "execution_count": 35,
     "metadata": {},
     "output_type": "execute_result"
    }
   ],
   "source": [
    "features"
   ]
  },
  {
   "cell_type": "code",
   "execution_count": 36,
   "metadata": {},
   "outputs": [],
   "source": [
    "linreg = LinearRegression()\n",
    "rfe = RFE(linreg, n_features_to_select = 2).fit(boston_features[features[1:]], boston_features[\"PTRATIO\"])\n"
   ]
  },
  {
   "cell_type": "code",
   "execution_count": 37,
   "metadata": {},
   "outputs": [
    {
     "data": {
      "text/plain": [
       "array([4, 1, 1, 3, 2])"
      ]
     },
     "execution_count": 37,
     "metadata": {},
     "output_type": "execute_result"
    }
   ],
   "source": [
    "rfe.ranking_"
   ]
  },
  {
   "cell_type": "code",
   "execution_count": 38,
   "metadata": {},
   "outputs": [
    {
     "data": {
      "text/plain": [
       "array([False,  True,  True, False, False])"
      ]
     },
     "execution_count": 38,
     "metadata": {},
     "output_type": "execute_result"
    }
   ],
   "source": [
    "rfe.support_"
   ]
  },
  {
   "cell_type": "markdown",
   "metadata": {},
   "source": [
    "Fit the linear regression model again using the 5 columns selected"
   ]
  },
  {
   "cell_type": "code",
   "execution_count": 28,
   "metadata": {},
   "outputs": [
    {
     "data": {
      "text/plain": [
       "'PTRATIO'"
      ]
     },
     "execution_count": 28,
     "metadata": {},
     "output_type": "execute_result"
    }
   ],
   "source": [
    "boston_features.columns[6]"
   ]
  },
  {
   "cell_type": "code",
   "execution_count": 39,
   "metadata": {},
   "outputs": [],
   "source": [
    "from statsmodels.formula.api import ols\n",
    "formula = \"PTRATIO~%s\" % \"+\".join([features[1], features[2]])\n",
    "model = ols(formula=formula, data=boston_features).fit()"
   ]
  },
  {
   "cell_type": "code",
   "execution_count": 40,
   "metadata": {},
   "outputs": [
    {
     "data": {
      "text/plain": [
       "['PTRATIO', 'B', 'CHAS', 'INDUS', 'AGE', 'LSTAT']"
      ]
     },
     "execution_count": 40,
     "metadata": {},
     "output_type": "execute_result"
    }
   ],
   "source": [
    "features"
   ]
  },
  {
   "cell_type": "code",
   "execution_count": 41,
   "metadata": {},
   "outputs": [
    {
     "data": {
      "text/html": [
       "<table class=\"simpletable\">\n",
       "<caption>OLS Regression Results</caption>\n",
       "<tr>\n",
       "  <th>Dep. Variable:</th>         <td>PTRATIO</td>     <th>  R-squared:         </th> <td>   0.040</td>\n",
       "</tr>\n",
       "<tr>\n",
       "  <th>Model:</th>                   <td>OLS</td>       <th>  Adj. R-squared:    </th> <td>   0.036</td>\n",
       "</tr>\n",
       "<tr>\n",
       "  <th>Method:</th>             <td>Least Squares</td>  <th>  F-statistic:       </th> <td>   10.44</td>\n",
       "</tr>\n",
       "<tr>\n",
       "  <th>Date:</th>             <td>Tue, 07 May 2019</td> <th>  Prob (F-statistic):</th> <td>3.62e-05</td>\n",
       "</tr>\n",
       "<tr>\n",
       "  <th>Time:</th>                 <td>18:05:39</td>     <th>  Log-Likelihood:    </th> <td> -707.69</td>\n",
       "</tr>\n",
       "<tr>\n",
       "  <th>No. Observations:</th>      <td>   506</td>      <th>  AIC:               </th> <td>   1421.</td>\n",
       "</tr>\n",
       "<tr>\n",
       "  <th>Df Residuals:</th>          <td>   503</td>      <th>  BIC:               </th> <td>   1434.</td>\n",
       "</tr>\n",
       "<tr>\n",
       "  <th>Df Model:</th>              <td>     2</td>      <th>                     </th>     <td> </td>   \n",
       "</tr>\n",
       "<tr>\n",
       "  <th>Covariance Type:</th>      <td>nonrobust</td>    <th>                     </th>     <td> </td>   \n",
       "</tr>\n",
       "</table>\n",
       "<table class=\"simpletable\">\n",
       "<tr>\n",
       "      <td></td>         <th>coef</th>     <th>std err</th>      <th>t</th>      <th>P>|t|</th>  <th>[0.025</th>    <th>0.975]</th>  \n",
       "</tr>\n",
       "<tr>\n",
       "  <th>Intercept</th> <td>    0.6637</td> <td>    0.176</td> <td>    3.766</td> <td> 0.000</td> <td>    0.317</td> <td>    1.010</td>\n",
       "</tr>\n",
       "<tr>\n",
       "  <th>B</th>         <td>   -0.7057</td> <td>    0.190</td> <td>   -3.710</td> <td> 0.000</td> <td>   -1.079</td> <td>   -0.332</td>\n",
       "</tr>\n",
       "<tr>\n",
       "  <th>CHAS</th>      <td>   -0.4279</td> <td>    0.172</td> <td>   -2.482</td> <td> 0.013</td> <td>   -0.767</td> <td>   -0.089</td>\n",
       "</tr>\n",
       "</table>\n",
       "<table class=\"simpletable\">\n",
       "<tr>\n",
       "  <th>Omnibus:</th>       <td>68.830</td> <th>  Durbin-Watson:     </th> <td>   0.224</td>\n",
       "</tr>\n",
       "<tr>\n",
       "  <th>Prob(Omnibus):</th> <td> 0.000</td> <th>  Jarque-Bera (JB):  </th> <td>  94.114</td>\n",
       "</tr>\n",
       "<tr>\n",
       "  <th>Skew:</th>          <td>-1.035</td> <th>  Prob(JB):          </th> <td>3.66e-21</td>\n",
       "</tr>\n",
       "<tr>\n",
       "  <th>Kurtosis:</th>      <td> 3.422</td> <th>  Cond. No.          </th> <td>    7.98</td>\n",
       "</tr>\n",
       "</table><br/><br/>Warnings:<br/>[1] Standard Errors assume that the covariance matrix of the errors is correctly specified."
      ],
      "text/plain": [
       "<class 'statsmodels.iolib.summary.Summary'>\n",
       "\"\"\"\n",
       "                            OLS Regression Results                            \n",
       "==============================================================================\n",
       "Dep. Variable:                PTRATIO   R-squared:                       0.040\n",
       "Model:                            OLS   Adj. R-squared:                  0.036\n",
       "Method:                 Least Squares   F-statistic:                     10.44\n",
       "Date:                Tue, 07 May 2019   Prob (F-statistic):           3.62e-05\n",
       "Time:                        18:05:39   Log-Likelihood:                -707.69\n",
       "No. Observations:                 506   AIC:                             1421.\n",
       "Df Residuals:                     503   BIC:                             1434.\n",
       "Df Model:                           2                                         \n",
       "Covariance Type:            nonrobust                                         \n",
       "==============================================================================\n",
       "                 coef    std err          t      P>|t|      [0.025      0.975]\n",
       "------------------------------------------------------------------------------\n",
       "Intercept      0.6637      0.176      3.766      0.000       0.317       1.010\n",
       "B             -0.7057      0.190     -3.710      0.000      -1.079      -0.332\n",
       "CHAS          -0.4279      0.172     -2.482      0.013      -0.767      -0.089\n",
       "==============================================================================\n",
       "Omnibus:                       68.830   Durbin-Watson:                   0.224\n",
       "Prob(Omnibus):                  0.000   Jarque-Bera (JB):               94.114\n",
       "Skew:                          -1.035   Prob(JB):                     3.66e-21\n",
       "Kurtosis:                       3.422   Cond. No.                         7.98\n",
       "==============================================================================\n",
       "\n",
       "Warnings:\n",
       "[1] Standard Errors assume that the covariance matrix of the errors is correctly specified.\n",
       "\"\"\""
      ]
     },
     "execution_count": 41,
     "metadata": {},
     "output_type": "execute_result"
    }
   ],
   "source": [
    "model.summary()"
   ]
  },
  {
   "cell_type": "markdown",
   "metadata": {},
   "source": [
    "Now, predict $\\hat y$ using your model. you can use `.predict()` in scikit-learn"
   ]
  },
  {
   "cell_type": "code",
   "execution_count": 42,
   "metadata": {},
   "outputs": [
    {
     "data": {
      "text/plain": [
       "array([-4.19840088e-02, -4.19840088e-02, -3.47414791e-02, -3.79445635e-02,\n",
       "       -4.19840088e-02, -3.70370229e-02, -3.96706701e-02, -4.19840088e-02,\n",
       "       -2.37086328e-02, -2.38509921e-02, -3.41898368e-02, -4.19840088e-02,\n",
       "       -3.05952643e-02, -4.19840088e-02, -1.19461951e-02, -3.97062599e-02,\n",
       "       -2.41001209e-02, -2.39221718e-02,  1.50040901e-01, -3.13960354e-02,\n",
       "       -5.80695003e-03, -3.42076317e-02, -4.19840088e-02, -3.77844093e-02,\n",
       "       -3.74107161e-02,  1.24362841e-01, -6.35859235e-03,  1.19095547e-01,\n",
       "       -2.60397665e-02, -1.23198883e-02,  2.33767078e-02, -6.09166865e-03,\n",
       "        2.50386417e-01,  2.58679957e-02,  2.22430608e-01, -4.19840088e-02,\n",
       "       -7.56864645e-03, -4.19840088e-02, -3.58091739e-02, -3.97240548e-02,\n",
       "       -3.97062599e-02, -2.15376534e-02, -1.79074911e-02, -3.76420500e-02,\n",
       "       -2.86200289e-02, -4.19840088e-02, -4.19840088e-02, -3.45813249e-02,\n",
       "       -4.19840088e-02, -4.19840088e-02, -3.95994904e-02, -3.67700992e-02,\n",
       "       -4.19840088e-02, -4.19840088e-02, -4.19840088e-02, -4.02579022e-02,\n",
       "       -4.19840088e-02, -3.48660435e-02, -3.09155727e-02, -4.19840088e-02,\n",
       "       -3.87987193e-02, -8.49398195e-03, -4.19840088e-02, -3.96350802e-02,\n",
       "       -3.54710705e-02, -4.19840088e-02, -4.19840088e-02, -4.07561598e-02,\n",
       "       -4.19840088e-02, -4.19840088e-02, -1.85481080e-02, -6.46536183e-03,\n",
       "       -3.13248557e-02, -6.87464483e-03, -3.84606160e-02, -1.76583623e-02,\n",
       "       -6.28630260e-04, -2.42958650e-02, -2.32993498e-02, -4.04892361e-02,\n",
       "       -4.19840088e-02, -3.97240548e-02, -4.19840088e-02, -3.08443931e-02,\n",
       "       -4.19840088e-02, -3.37983487e-02, -4.03646717e-02, -3.88698990e-02,\n",
       "       -4.19840088e-02, -4.04892361e-02, -3.35848097e-02, -3.60227128e-02,\n",
       "       -3.86207702e-02, -4.09696987e-02, -4.19840088e-02,  2.72737938e-02,\n",
       "       -3.29619878e-02, -4.19840088e-02, -3.59871230e-02, -4.19840088e-02,\n",
       "       -3.81758974e-02, -3.96350802e-02,  5.38308114e-01, -3.76598449e-02,\n",
       "       -3.44923503e-02, -3.69124585e-02, -3.97952345e-02, -2.55948936e-02,\n",
       "       -3.90300532e-02, -3.18942930e-02, -3.59159434e-02, -3.96528752e-02,\n",
       "       -3.85140007e-02, -4.19840088e-02, -2.74633595e-02,  5.05317455e-02,\n",
       "       -3.55778400e-02, -3.77310245e-02,  6.17069511e-02, -3.23747556e-02,\n",
       "       -2.81929510e-02, -7.76439050e-03, -8.51177686e-03,  5.33266570e-03,\n",
       "       -1.08073207e-02, -2.08436518e-02,  2.49426602e-02, -3.34602453e-02,\n",
       "       -4.19840088e-02, -4.19840088e-02, -3.86741549e-02, -4.19840088e-02,\n",
       "       -2.21604754e-02, -2.73743850e-02,  1.96716958e-01, -3.80157431e-02,\n",
       "       -8.79649547e-03, -3.69658433e-02, -3.33356809e-02, -4.19840088e-02,\n",
       "       -2.62888953e-02, -4.19840088e-02, -4.69882956e-01, -4.19840088e-02,\n",
       "       -4.19840088e-02,  3.56604255e-01,  3.63081603e-01, -3.27484488e-02,\n",
       "        2.90354902e-02,  3.81820757e-02,  9.01732286e-04,  5.64218618e-02,\n",
       "       -3.74466630e-01,  1.98158346e-01, -3.34855153e-01,  7.97841219e-02,\n",
       "        5.06579784e-01,  1.75755661e-02,  3.45519134e-02,  1.60096137e-02,\n",
       "       -3.66708048e-01, -1.99883858e-03, -4.56910464e-01, -4.54846254e-01,\n",
       "       -3.87987193e-02,  2.36933463e-01,  7.12995195e-03,  2.59266079e-01,\n",
       "        1.35627021e-01,  7.69927816e-02,  1.44168579e-01,  4.48017834e-02,\n",
       "       -4.19840088e-02, -3.94927209e-02, -3.54532756e-02, -3.14138303e-02,\n",
       "       -3.54532756e-02, -3.96706701e-02, -3.19654726e-02, -4.19840088e-02,\n",
       "       -3.95994904e-02, -4.19840088e-02, -3.70370229e-02, -4.19840088e-02,\n",
       "       -3.14850099e-02, -2.45627887e-02, -3.43855808e-02, -3.65921501e-02,\n",
       "       -1.69643607e-02, -4.19840088e-02, -7.78218541e-03, -2.91894661e-02,\n",
       "       -3.05774694e-02, -3.57024044e-02, -6.03828391e-03, -3.72327670e-02,\n",
       "       -4.19840088e-02,  3.38045270e-02, -3.36203995e-02, -4.19840088e-02,\n",
       "       -1.95624180e-02, -3.64142009e-02, -3.92791820e-02, -3.46525045e-02,\n",
       "       -3.06842389e-02, -4.19840088e-02, -3.83716414e-02, -2.86912086e-02,\n",
       "       -4.42158481e-01, -4.69882956e-01, -4.63387812e-01, -4.66929000e-01,\n",
       "       -4.59277187e-01, -2.22494499e-02,  4.33781904e-02, -3.61650722e-02,\n",
       "       -4.62587041e-01, -3.46525045e-02, -4.69882956e-01, -4.64259763e-01,\n",
       "       -4.60629601e-01, -4.66929000e-01, -4.58298467e-01, -4.19840088e-02,\n",
       "       -2.08970365e-02, -1.54695880e-02, -2.50432513e-02,  2.18296604e-03,\n",
       "       -7.47967189e-03, -1.25156324e-02, -8.97444460e-03, -5.04176876e-03,\n",
       "       -2.24273991e-02, -1.00421394e-02, -4.04575624e-01, -6.12725847e-03,\n",
       "       -4.54846254e-01, -2.98300830e-02, -1.08607054e-02, -1.86370825e-02,\n",
       "       -3.19298828e-02, -3.79267686e-02,  9.90706852e-04, -2.49709616e-03,\n",
       "        1.45337460e-03, -2.81573612e-02, -3.00258271e-02, -5.04176876e-03,\n",
       "       -2.49709616e-03, -3.63608162e-02, -4.08807242e-02, -6.69669570e-03,\n",
       "       -2.27477075e-02, -4.19840088e-02, -3.48482486e-02, -3.89232837e-02,\n",
       "       -2.31925803e-02, -2.91716712e-02, -1.77651318e-02, -3.31399369e-02,\n",
       "       -3.46880943e-02, -2.68049477e-02, -2.41179158e-02, -3.57913790e-02,\n",
       "       -2.59507919e-02, -3.39762978e-02, -1.91531350e-02, -1.99894959e-02,\n",
       "       -3.02393660e-02, -4.59988984e-01, -2.73032053e-02, -4.19840088e-02,\n",
       "       -3.85317956e-02, -4.58974674e-01, -4.69882956e-01, -4.19840088e-02,\n",
       "       -4.56269847e-01, -4.63743710e-01, -4.19840088e-02, -4.19840088e-02,\n",
       "       -2.49186869e-02, -3.36737843e-02, -4.34595642e-01, -4.67427257e-01,\n",
       "       -3.81047177e-02, -3.81047177e-02,  5.64218618e-02, -4.19840088e-02,\n",
       "       -4.19840088e-02,  2.82358292e-03, -4.19840088e-02, -4.19840088e-02,\n",
       "       -4.19840088e-02, -4.19840088e-02, -4.19840088e-02, -4.19840088e-02,\n",
       "       -3.47770689e-02, -4.19840088e-02,  9.01621276e-03,  3.07271171e-03,\n",
       "       -3.12358812e-02, -3.99375938e-02, -1.83345690e-02, -3.04706999e-02,\n",
       "       -3.62540467e-02, -3.56846095e-02, -4.19840088e-02, -4.19840088e-02,\n",
       "       -4.19840088e-02, -4.08095445e-02,  4.06733635e-02, -4.19840088e-02,\n",
       "       -4.09163140e-02, -3.57379942e-02, -3.98308243e-02, -4.11298530e-02,\n",
       "       -3.09511625e-02, -4.19840088e-02, -3.89766685e-02, -4.07917496e-02,\n",
       "       -4.19840088e-02, -4.19840088e-02, -4.19840088e-02, -3.17163438e-02,\n",
       "       -4.19840088e-02, -3.62540467e-02, -4.19840088e-02, -4.19840088e-02,\n",
       "       -1.62525642e-02, -3.38684182e-03,  8.42898062e-03, -3.68590738e-02,\n",
       "        1.96753658e-02, -2.91894661e-02, -2.86378238e-02, -4.19840088e-02,\n",
       "       -4.19840088e-02, -3.82648719e-02, -4.06315954e-02, -4.19840088e-02,\n",
       "       -4.19840088e-02, -3.81403075e-02, -2.96343390e-02, -4.19840088e-02,\n",
       "       -2.60931512e-02, -2.19469364e-02,  1.54757663e-02, -3.40296826e-02,\n",
       "       -3.13782405e-02, -2.94385949e-02, -4.19840088e-02,  4.49630478e-03,\n",
       "       -3.38517334e-02, -1.98471366e-02, -1.68931810e-02, -4.86381963e-03,\n",
       "       -4.35770107e-01, -4.59988984e-01, -4.67267103e-01, -3.10223422e-02,\n",
       "       -2.23017246e-03,  4.03174653e-02, -1.33164035e-02, -3.91834466e-01,\n",
       "       -3.94521498e-01,  3.31105254e-02,  1.01923455e-01,  4.30435350e-01,\n",
       "       -3.93848414e-03, -4.31499327e-01, -4.61252423e-01,  1.27353496e-02,\n",
       "       -3.82652290e-01, -4.19840088e-02, -4.19840088e-02, -4.19840088e-02,\n",
       "        1.83051575e-02, -4.19840088e-02, -4.19840088e-02, -3.63608162e-02,\n",
       "       -4.19840088e-02, -4.19840088e-02, -4.19840088e-02, -4.19840088e-02,\n",
       "        1.55664093e-01, -4.19840088e-02, -4.19840088e-02, -4.19840088e-02,\n",
       "        6.88193326e-04, -4.19840088e-02, -3.75886652e-02, -9.02782934e-03,\n",
       "       -4.19840088e-02, -4.19840088e-02, -4.19840088e-02, -3.32289115e-02,\n",
       "       -4.19840088e-02, -3.52219417e-02, -4.19840088e-02,  6.25433120e-02,\n",
       "       -4.19840088e-02, -4.19840088e-02, -4.98838402e-03, -4.19840088e-02,\n",
       "        7.80248866e-02, -2.07546772e-02,  5.49281992e-03,  7.33448244e-02,\n",
       "        1.04396948e-01,  3.45126535e-01,  6.59669423e-01,  6.01924930e-01,\n",
       "        6.13064545e-01,  2.88876814e-01,  5.07220401e-01,  6.15804962e-01,\n",
       "        6.25912473e-01,  4.37660085e-01,  6.35023468e-01,  5.78079746e-01,\n",
       "        9.70832388e-02,  9.48944644e-02,  1.45485403e-01,  6.59811783e-01,\n",
       "        6.57800957e-01,  6.50629607e-01,  6.20431639e-01,  6.30806074e-01,\n",
       "        4.92165904e-01,  5.56245387e-01,  5.15797549e-01,  5.19570071e-01,\n",
       "        4.89994925e-01,  4.86008864e-01,  4.85225888e-01,  4.68818978e-01,\n",
       "        6.15377884e-01,  6.47711241e-01,  5.41600173e-01, -4.19840088e-02,\n",
       "       -3.22857810e-02, -2.25163736e-02, -3.98308243e-02, -2.38865820e-02,\n",
       "        2.36292846e-01,  5.87671204e-01,  9.84000623e-02, -2.70718714e-02,\n",
       "       -4.19840088e-02,  1.22957043e-01,  6.63726663e-01,  3.20606255e-02,\n",
       "       -2.09682162e-02, -4.56130610e-03,  6.52409099e-01,  5.73684402e-01,\n",
       "        6.45647032e-01,  6.58067881e-01,  1.79900765e-01, -4.19840088e-02,\n",
       "        2.10116528e-01, -3.22501912e-02, -4.19840088e-02, -3.65031755e-02,\n",
       "       -4.19840088e-02,  6.92341994e-02,  6.25129496e-01,  7.47684175e-02,\n",
       "        8.12646709e-03, -4.19840088e-02, -4.19840088e-02, -3.91902074e-02,\n",
       "       -3.57024044e-02, -2.44371142e-03,  3.68830470e-02,  1.25537305e-01,\n",
       "       -4.07561598e-02,  4.23994701e-02, -1.13767579e-02, -1.78185165e-02,\n",
       "       -4.19840088e-02, -3.51685570e-02, -3.91012328e-02, -3.49016333e-02,\n",
       "        4.58527934e-03, -2.72498206e-02, -3.44745554e-02, -2.65380240e-02,\n",
       "       -3.87631295e-02,  5.20621081e-02,  9.76526760e-02, -2.99012627e-02,\n",
       "       -4.19840088e-02, -4.19840088e-02, -4.19840088e-02, -3.55600451e-02,\n",
       "       -4.19840088e-02, -4.19840088e-02, -4.19840088e-02, -3.99731836e-02,\n",
       "       -4.19840088e-02, -3.32467064e-02, -4.19840088e-02, -4.19840088e-02,\n",
       "       -3.58447637e-02, -4.19840088e-02])"
      ]
     },
     "execution_count": 42,
     "metadata": {},
     "output_type": "execute_result"
    }
   ],
   "source": [
    "model.predict()"
   ]
  },
  {
   "cell_type": "markdown",
   "metadata": {},
   "source": [
    "Now, using the formulas of R-squared and adjusted-R-squared below, and your Python/numpy knowledge, compute them and contrast them with the R-squared and adjusted-R-squared in your statsmodels output using stepwise selection. Which of the two models would you prefer?"
   ]
  },
  {
   "cell_type": "markdown",
   "metadata": {},
   "source": [
    "$SS_{residual} = \\sum (y - \\hat{y})^2 $\n",
    "\n",
    "$SS_{total} = \\sum (y - \\bar{y})^2 $\n",
    "\n",
    "$R^2 = 1- \\dfrac{SS_{residual}}{SS_{total}}$\n",
    "\n",
    "$R^2_{adj}= 1-(1-R^2)\\dfrac{n-1}{n-p-1}$"
   ]
  },
  {
   "cell_type": "code",
   "execution_count": null,
   "metadata": {},
   "outputs": [],
   "source": []
  },
  {
   "cell_type": "code",
   "execution_count": null,
   "metadata": {},
   "outputs": [],
   "source": []
  },
  {
   "cell_type": "code",
   "execution_count": null,
   "metadata": {},
   "outputs": [],
   "source": []
  },
  {
   "cell_type": "markdown",
   "metadata": {},
   "source": [
    "## Level up - Optional"
   ]
  },
  {
   "cell_type": "markdown",
   "metadata": {},
   "source": [
    "- Perform variable selection using forward selection, using this resource: https://planspace.org/20150423-forward_selection_with_statsmodels/. Note that this time features are added based on the adjusted-R-squared!\n",
    "- Tweak the code in the `stepwise_selection()`-function written above to just perform forward selection based on the p-value."
   ]
  },
  {
   "cell_type": "markdown",
   "metadata": {},
   "source": [
    "## Summary\n",
    "Great! You now performed your own feature selection methods!"
   ]
  }
 ],
 "metadata": {
  "kernelspec": {
   "display_name": "Python 3",
   "language": "python",
   "name": "python3"
  },
  "language_info": {
   "codemirror_mode": {
    "name": "ipython",
    "version": 3
   },
   "file_extension": ".py",
   "mimetype": "text/x-python",
   "name": "python",
   "nbconvert_exporter": "python",
   "pygments_lexer": "ipython3",
   "version": "3.6.6"
  }
 },
 "nbformat": 4,
 "nbformat_minor": 2
}
